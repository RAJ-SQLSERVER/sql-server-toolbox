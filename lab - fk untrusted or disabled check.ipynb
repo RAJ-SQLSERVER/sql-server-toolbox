{
    "metadata": {
        "kernelspec": {
            "name": "SQL",
            "display_name": "SQL",
            "language": "sql"
        },
        "language_info": {
            "name": "sql",
            "version": ""
        }
    },
    "nbformat_minor": 2,
    "nbformat": 4,
    "cells": [
        {
            "cell_type": "markdown",
            "source": "Lab to demonstrate the difference between a trusted and enabled FK, and the eventual performance impact.\r\n\r\nKernel: SQL, for any version of SQL Server since 2008",
            "metadata": {}
        },
        {
            "cell_type": "code",
            "source": "drop table table2\r\ndrop table table1 \r\nGO\r\ncreate table table1\r\n(\r\n\tid int not null IDENTITY(1,1) CONSTRAINT PK_table1 PRIMARY KEY\r\n,\r\n\twhatever varchar(100)\r\n)\r\ncreate table table2\r\n(\r\n\tid int not null IDENTITY(1,1) CONSTRAINT PK_table2 PRIMARY KEY\r\n,\r\n\ttable1id int not null CONSTRAINT FK_table2_table1 FOREIGN KEY REFERENCES dbo.table1 (id) --No WITH CHECK needed here. Creates the FK trusted.\r\n,\r\n\twhatever varchar(100)\r\n)\r\nGO\r\nINSERT INTO table1\r\n\t(whatever)\r\nvalues\r\n\t('abc')\r\nGO\r\nINSERT INTO table1\r\n\t(whatever)\r\nselect left(whatever + str(id),100)\r\nfrom table1 \r\nGO 15 --2^15 or 32,768 rows\r\nGO\r\nINSERT INTO [dbo].[table2]\r\n\t(table1id, whatever)\r\nselect id, whatever\r\nfrom [dbo].[table1]\r\nGO\r\nSELECT\r\n\tTable_Name\t= s.name + '.' +o.name \r\n, FK_Name\t\t= fk.name \r\n, fk.is_not_trusted\r\n, fk.is_disabled\r\nFROM sys.foreign_keys as FK\r\n\tINNER JOIN sys.objects as o ON fk.parent_object_id = o.object_id\r\n\tINNER JOIN sys.schemas as s ON o.schema_id = s.schema_id\r\nwhere o.name in ('table1','table2')\r\n",
            "metadata": {},
            "outputs": [
                {
                    "output_type": "display_data",
                    "data": {
                        "text/html": "Commands completed successfully."
                    },
                    "metadata": {}
                },
                {
                    "output_type": "display_data",
                    "data": {
                        "text/html": "Total execution time: 00:00:00.0668498"
                    },
                    "metadata": {}
                },
                {
                    "output_type": "display_data",
                    "data": {
                        "text/html": "Commands completed successfully."
                    },
                    "metadata": {}
                },
                {
                    "output_type": "display_data",
                    "data": {
                        "text/html": "Total execution time: 00:00:00.0931035"
                    },
                    "metadata": {}
                },
                {
                    "output_type": "display_data",
                    "data": {
                        "text/html": "(1 row affected)"
                    },
                    "metadata": {}
                },
                {
                    "output_type": "display_data",
                    "data": {
                        "text/html": "Total execution time: 00:00:00.0474809"
                    },
                    "metadata": {}
                },
                {
                    "output_type": "display_data",
                    "data": {
                        "text/html": "Beginning execution loop"
                    },
                    "metadata": {}
                },
                {
                    "output_type": "display_data",
                    "data": {
                        "text/html": "(1 row affected)"
                    },
                    "metadata": {}
                },
                {
                    "output_type": "display_data",
                    "data": {
                        "text/html": "(2 rows affected)"
                    },
                    "metadata": {}
                },
                {
                    "output_type": "display_data",
                    "data": {
                        "text/html": "(4 rows affected)"
                    },
                    "metadata": {}
                },
                {
                    "output_type": "display_data",
                    "data": {
                        "text/html": "(8 rows affected)"
                    },
                    "metadata": {}
                },
                {
                    "output_type": "display_data",
                    "data": {
                        "text/html": "(16 rows affected)"
                    },
                    "metadata": {}
                },
                {
                    "output_type": "display_data",
                    "data": {
                        "text/html": "(32 rows affected)"
                    },
                    "metadata": {}
                },
                {
                    "output_type": "display_data",
                    "data": {
                        "text/html": "(64 rows affected)"
                    },
                    "metadata": {}
                },
                {
                    "output_type": "display_data",
                    "data": {
                        "text/html": "(128 rows affected)"
                    },
                    "metadata": {}
                },
                {
                    "output_type": "display_data",
                    "data": {
                        "text/html": "(256 rows affected)"
                    },
                    "metadata": {}
                },
                {
                    "output_type": "display_data",
                    "data": {
                        "text/html": "(512 rows affected)"
                    },
                    "metadata": {}
                },
                {
                    "output_type": "display_data",
                    "data": {
                        "text/html": "(1024 rows affected)"
                    },
                    "metadata": {}
                },
                {
                    "output_type": "display_data",
                    "data": {
                        "text/html": "(2048 rows affected)"
                    },
                    "metadata": {}
                },
                {
                    "output_type": "display_data",
                    "data": {
                        "text/html": "(4096 rows affected)"
                    },
                    "metadata": {}
                },
                {
                    "output_type": "display_data",
                    "data": {
                        "text/html": "(8192 rows affected)"
                    },
                    "metadata": {}
                },
                {
                    "output_type": "display_data",
                    "data": {
                        "text/html": "(16384 rows affected)"
                    },
                    "metadata": {}
                },
                {
                    "output_type": "display_data",
                    "data": {
                        "text/html": "Batch execution completed 15 times..."
                    },
                    "metadata": {}
                },
                {
                    "output_type": "display_data",
                    "data": {
                        "text/html": "Total execution time: 00:00:13.4432736"
                    },
                    "metadata": {}
                },
                {
                    "output_type": "display_data",
                    "data": {
                        "text/html": "(32768 rows affected)"
                    },
                    "metadata": {}
                },
                {
                    "output_type": "display_data",
                    "data": {
                        "text/html": "Total execution time: 00:00:13.4114274"
                    },
                    "metadata": {}
                },
                {
                    "output_type": "display_data",
                    "data": {
                        "text/html": "(1 row affected)"
                    },
                    "metadata": {}
                },
                {
                    "output_type": "display_data",
                    "data": {
                        "text/html": "Total execution time: 00:00:00.0530024"
                    },
                    "metadata": {}
                },
                {
                    "output_type": "execute_result",
                    "execution_count": 53,
                    "data": {
                        "application/vnd.dataresource+json": {
                            "schema": {
                                "fields": [
                                    {
                                        "name": "Table_Name"
                                    },
                                    {
                                        "name": "FK_Name"
                                    },
                                    {
                                        "name": "is_not_trusted"
                                    },
                                    {
                                        "name": "is_disabled"
                                    }
                                ]
                            },
                            "data": [
                                {
                                    "0": "dbo.table2",
                                    "1": "FK_table2_table1",
                                    "2": "0",
                                    "3": "0"
                                }
                            ]
                        },
                        "text/html": "<table><tr><th>Table_Name</th><th>FK_Name</th><th>is_not_trusted</th><th>is_disabled</th></tr><tr><td>dbo.table2</td><td>FK_table2_table1</td><td>0</td><td>0</td></tr></table>"
                    },
                    "metadata": {}
                }
            ],
            "execution_count": 53
        },
        {
            "cell_type": "markdown",
            "source": "The origin of the problem is when you script out the FK with SSMS.\r\n\r\nLet's reproduce by using the same code SSMS produces when you script out drop/creating a FK.",
            "metadata": {}
        },
        {
            "cell_type": "code",
            "source": "ALTER TABLE [dbo].[table2] DROP CONSTRAINT [FK_table2_table1]\r\nGO\r\nALTER TABLE [dbo].[table2]  WITH NOCHECK ADD  CONSTRAINT [FK_table2_table1] FOREIGN KEY([table1id]) --Note the NOCHECK here. The FK is enabled but not Trusted.\r\nREFERENCES [dbo].[table1] ([id])\r\nGO\r\nALTER TABLE [dbo].[table2] CHECK CONSTRAINT [FK_table2_table1] --This doesn't re-trust the FK!\r\nGO\r\n\r\nSELECT  \r\n\tTable_Name\t= s.name + '.' +o.name \r\n,\tFK_Name\t\t= fk.name \r\n,\tfk.is_not_trusted\r\n,\tfk.is_disabled\r\nFROM    sys.foreign_keys as FK\r\n        INNER JOIN sys.objects as o ON fk.parent_object_id = o.object_id\r\n        INNER JOIN sys.schemas as s ON o.schema_id = s.schema_id\r\nwhere o.name in ('table1','table2')\r\n",
            "metadata": {},
            "outputs": [
                {
                    "output_type": "display_data",
                    "data": {
                        "text/html": "Commands completed successfully."
                    },
                    "metadata": {}
                },
                {
                    "output_type": "display_data",
                    "data": {
                        "text/html": "Total execution time: 00:00:00.0517249"
                    },
                    "metadata": {}
                },
                {
                    "output_type": "display_data",
                    "data": {
                        "text/html": "Commands completed successfully."
                    },
                    "metadata": {}
                },
                {
                    "output_type": "display_data",
                    "data": {
                        "text/html": "Total execution time: 00:00:00.0522722"
                    },
                    "metadata": {}
                },
                {
                    "output_type": "display_data",
                    "data": {
                        "text/html": "Commands completed successfully."
                    },
                    "metadata": {}
                },
                {
                    "output_type": "display_data",
                    "data": {
                        "text/html": "Total execution time: 00:00:00.0503553"
                    },
                    "metadata": {}
                },
                {
                    "output_type": "display_data",
                    "data": {
                        "text/html": "(1 row affected)"
                    },
                    "metadata": {}
                },
                {
                    "output_type": "display_data",
                    "data": {
                        "text/html": "Total execution time: 00:00:00.1069140"
                    },
                    "metadata": {}
                },
                {
                    "output_type": "execute_result",
                    "execution_count": 49,
                    "data": {
                        "application/vnd.dataresource+json": {
                            "schema": {
                                "fields": [
                                    {
                                        "name": "Table_Name"
                                    },
                                    {
                                        "name": "FK_Name"
                                    },
                                    {
                                        "name": "is_not_trusted"
                                    },
                                    {
                                        "name": "is_disabled"
                                    }
                                ]
                            },
                            "data": [
                                {
                                    "0": "dbo.table2",
                                    "1": "FK_table2_table1",
                                    "2": "1",
                                    "3": "0"
                                }
                            ]
                        },
                        "text/html": "<table><tr><th>Table_Name</th><th>FK_Name</th><th>is_not_trusted</th><th>is_disabled</th></tr><tr><td>dbo.table2</td><td>FK_table2_table1</td><td>1</td><td>0</td></tr></table>"
                    },
                    "metadata": {}
                }
            ],
            "execution_count": 49
        },
        {
            "cell_type": "markdown",
            "source": "Let's try to insert a value that shouldn't be allowed. \r\n\r\nThe Insert is blocked even though the FK isn't trusted, because it is still enabled. We do get an error.\r\n",
            "metadata": {}
        },
        {
            "cell_type": "code",
            "source": "INSERT INTO [dbo].[table2] (table1id, whatever) \r\nOUTPUT inserted.table1id, inserted.whatever\r\nVALUES (-1, 'whatever')\r\nGO\r\nSELECT  \r\n\tTable_Name\t= s.name + '.' +o.name \r\n,\tFK_Name\t\t= fk.name \r\n,\tfk.is_not_trusted\r\n,\tfk.is_disabled\r\nFROM    sys.foreign_keys as FK\r\n        INNER JOIN sys.objects as o ON fk.parent_object_id = o.object_id\r\n        INNER JOIN sys.schemas as s ON o.schema_id = s.schema_id\r\nwhere o.name in ('table1','table2')\r\nGO\r\n",
            "metadata": {},
            "outputs": [
                {
                    "output_type": "error",
                    "ename": "",
                    "evalue": "Msg 547, Level 16, State 0, Line 1\r\nThe INSERT statement conflicted with the FOREIGN KEY constraint \"FK_table2_table1\". The conflict occurred in database \"btrdynastyffl\", table \"dbo.table1\", column 'id'.",
                    "traceback": []
                },
                {
                    "output_type": "display_data",
                    "data": {
                        "text/html": "The statement has been terminated."
                    },
                    "metadata": {}
                },
                {
                    "output_type": "display_data",
                    "data": {
                        "text/html": "Total execution time: 00:00:00.0645840"
                    },
                    "metadata": {}
                },
                {
                    "output_type": "execute_result",
                    "execution_count": 50,
                    "data": {
                        "application/vnd.dataresource+json": {
                            "schema": {
                                "fields": [
                                    {
                                        "name": "table1id"
                                    },
                                    {
                                        "name": "whatever"
                                    }
                                ]
                            },
                            "data": []
                        },
                        "text/html": "<table><tr><th>table1id</th><th>whatever</th></tr></table>"
                    },
                    "metadata": {}
                },
                {
                    "output_type": "display_data",
                    "data": {
                        "text/html": "(1 row affected)"
                    },
                    "metadata": {}
                },
                {
                    "output_type": "display_data",
                    "data": {
                        "text/html": "Total execution time: 00:00:00.0473966"
                    },
                    "metadata": {}
                },
                {
                    "output_type": "execute_result",
                    "execution_count": 50,
                    "data": {
                        "application/vnd.dataresource+json": {
                            "schema": {
                                "fields": [
                                    {
                                        "name": "Table_Name"
                                    },
                                    {
                                        "name": "FK_Name"
                                    },
                                    {
                                        "name": "is_not_trusted"
                                    },
                                    {
                                        "name": "is_disabled"
                                    }
                                ]
                            },
                            "data": [
                                {
                                    "0": "dbo.table2",
                                    "1": "FK_table2_table1",
                                    "2": "1",
                                    "3": "0"
                                }
                            ]
                        },
                        "text/html": "<table><tr><th>Table_Name</th><th>FK_Name</th><th>is_not_trusted</th><th>is_disabled</th></tr><tr><td>dbo.table2</td><td>FK_table2_table1</td><td>1</td><td>0</td></tr></table>"
                    },
                    "metadata": {}
                }
            ],
            "execution_count": 50
        },
        {
            "cell_type": "markdown",
            "source": "The concept of disabling a FK vs not trusting a FK is important.\r\n\r\nA disabled FK will allow invalid data into the child table at any time.\r\n\r\nA FK can be created without trust so that it will allow EXISTING invalid data in the child table, but still block NEW invalid data in the child table.\r\n",
            "metadata": {}
        },
        {
            "cell_type": "code",
            "source": "ALTER TABLE [dbo].[table2] \r\nNOCHECK CONSTRAINT [FK_table2_table1] --Note: no WITH, just NOCHECK, this DISABLES the FK. \r\nGO\r\nSELECT  \r\n\tTable_Name\t= s.name + '.' +o.name \r\n,\tFK_Name\t\t= fk.name \r\n,\tfk.is_not_trusted\r\n,\tfk.is_disabled\r\nFROM    sys.foreign_keys as FK\r\n        INNER JOIN sys.objects as o ON fk.parent_object_id = o.object_id\r\n        INNER JOIN sys.schemas as s ON o.schema_id = s.schema_id\r\nwhere o.name in ('table1','table2')\r\nGO\r\n--Try to insert a value that shouldn't be allowed\r\n--The Insert is NOT blocked because the FK is disabled.\r\nINSERT INTO [dbo].[table2] (table1id, whatever) \r\nOUTPUT inserted.table1id, inserted.whatever\r\nVALUES (-1, 'whatever')\r\nGO\r\nALTER TABLE [dbo].[table2] \r\nCHECK CONSTRAINT [FK_table2_table1] --Note: Enables the foreign key but does not mark it as trusted. Re-enabling the FK with invalid data in the child table still works!\r\nGO\r\nSELECT  \r\n\tTable_Name\t= s.name + '.' +o.name \r\n,\tFK_Name\t\t= fk.name \r\n,\tfk.is_not_trusted\r\n,\tfk.is_disabled\r\nFROM    sys.foreign_keys as FK\r\n        INNER JOIN sys.objects as o ON fk.parent_object_id = o.object_id\r\n        INNER JOIN sys.schemas as s ON o.schema_id = s.schema_id\r\nwhere o.name in ('table1','table2')\r\nGO\r\n",
            "metadata": {},
            "outputs": [
                {
                    "output_type": "display_data",
                    "data": {
                        "text/html": "Commands completed successfully."
                    },
                    "metadata": {}
                },
                {
                    "output_type": "display_data",
                    "data": {
                        "text/html": "Total execution time: 00:00:00.0514888"
                    },
                    "metadata": {}
                },
                {
                    "output_type": "display_data",
                    "data": {
                        "text/html": "(1 row affected)"
                    },
                    "metadata": {}
                },
                {
                    "output_type": "display_data",
                    "data": {
                        "text/html": "Total execution time: 00:00:00.0528005"
                    },
                    "metadata": {}
                },
                {
                    "output_type": "display_data",
                    "data": {
                        "text/html": "(1 row affected)"
                    },
                    "metadata": {}
                },
                {
                    "output_type": "display_data",
                    "data": {
                        "text/html": "Total execution time: 00:00:00.0531820"
                    },
                    "metadata": {}
                },
                {
                    "output_type": "display_data",
                    "data": {
                        "text/html": "Commands completed successfully."
                    },
                    "metadata": {}
                },
                {
                    "output_type": "display_data",
                    "data": {
                        "text/html": "Total execution time: 00:00:00.0787229"
                    },
                    "metadata": {}
                },
                {
                    "output_type": "display_data",
                    "data": {
                        "text/html": "(1 row affected)"
                    },
                    "metadata": {}
                },
                {
                    "output_type": "display_data",
                    "data": {
                        "text/html": "Total execution time: 00:00:00.0495700"
                    },
                    "metadata": {}
                },
                {
                    "output_type": "execute_result",
                    "execution_count": 51,
                    "data": {
                        "application/vnd.dataresource+json": {
                            "schema": {
                                "fields": [
                                    {
                                        "name": "Table_Name"
                                    },
                                    {
                                        "name": "FK_Name"
                                    },
                                    {
                                        "name": "is_not_trusted"
                                    },
                                    {
                                        "name": "is_disabled"
                                    }
                                ]
                            },
                            "data": [
                                {
                                    "0": "dbo.table2",
                                    "1": "FK_table2_table1",
                                    "2": "1",
                                    "3": "1"
                                }
                            ]
                        },
                        "text/html": "<table><tr><th>Table_Name</th><th>FK_Name</th><th>is_not_trusted</th><th>is_disabled</th></tr><tr><td>dbo.table2</td><td>FK_table2_table1</td><td>1</td><td>1</td></tr></table>"
                    },
                    "metadata": {}
                },
                {
                    "output_type": "execute_result",
                    "execution_count": 51,
                    "data": {
                        "application/vnd.dataresource+json": {
                            "schema": {
                                "fields": [
                                    {
                                        "name": "table1id"
                                    },
                                    {
                                        "name": "whatever"
                                    }
                                ]
                            },
                            "data": [
                                {
                                    "0": "-1",
                                    "1": "whatever"
                                }
                            ]
                        },
                        "text/html": "<table><tr><th>table1id</th><th>whatever</th></tr><tr><td>-1</td><td>whatever</td></tr></table>"
                    },
                    "metadata": {}
                },
                {
                    "output_type": "execute_result",
                    "execution_count": 51,
                    "data": {
                        "application/vnd.dataresource+json": {
                            "schema": {
                                "fields": [
                                    {
                                        "name": "Table_Name"
                                    },
                                    {
                                        "name": "FK_Name"
                                    },
                                    {
                                        "name": "is_not_trusted"
                                    },
                                    {
                                        "name": "is_disabled"
                                    }
                                ]
                            },
                            "data": [
                                {
                                    "0": "dbo.table2",
                                    "1": "FK_table2_table1",
                                    "2": "1",
                                    "3": "0"
                                }
                            ]
                        },
                        "text/html": "<table><tr><th>Table_Name</th><th>FK_Name</th><th>is_not_trusted</th><th>is_disabled</th></tr><tr><td>dbo.table2</td><td>FK_table2_table1</td><td>1</td><td>0</td></tr></table>"
                    },
                    "metadata": {}
                }
            ],
            "execution_count": 51
        },
        {
            "cell_type": "markdown",
            "source": "Let's try to re-trust a FK while invalid records exist in the child table.",
            "metadata": {}
        },
        {
            "cell_type": "code",
            "source": "SELECT  \r\n\tTable_Name\t= s.name + '.' +o.name \r\n,\tFK_Name\t\t= fk.name \r\n,\tfk.is_not_trusted\r\n,\tfk.is_disabled\r\nFROM    sys.foreign_keys as FK\r\n        INNER JOIN sys.objects as o ON fk.parent_object_id = o.object_id\r\n        INNER JOIN sys.schemas as s ON o.schema_id = s.schema_id\r\nwhere o.name in ('table1','table2')\r\nGO\r\nALTER TABLE [dbo].[table2] \r\nWITH CHECK  --Note: ATTEMPT to re-trust the foreign key. This command reverses the previous WITH NOCHECK. Re-trusting the FK with invalid data in the child table does NOT work! Will have to clean up data.\r\nCHECK CONSTRAINT [FK_table2_table1] \r\nGO\r\nDELETE FROM [dbo].[table2]  -- Clean up invalid data in the child table. In reality, you'll want to update invalid relations in the child table, or add new records in the parent table to make them valid. \r\nOUTPUT deleted.table1id, deleted.whatever\r\nwhere table1id not in (select id from [dbo].[table1])\r\nGO\r\nALTER TABLE [dbo].[table2] \r\nWITH CHECK  --Note: Re-trusts the foreign key. This is successful, and now the FK is trusted and enabled and can be used by SQL Server.\r\nCHECK CONSTRAINT [FK_table2_table1] \r\nGO\r\nSELECT  \r\n\tTable_Name\t= s.name + '.' +o.name \r\n,\tFK_Name\t\t= fk.name \r\n,\tfk.is_not_trusted\r\n,\tfk.is_disabled\r\nFROM    sys.foreign_keys as FK\r\n        INNER JOIN sys.objects as o ON fk.parent_object_id = o.object_id\r\n        INNER JOIN sys.schemas as s ON o.schema_id = s.schema_id\r\nwhere o.name in ('table1','table2')\r\nGO",
            "metadata": {},
            "outputs": [
                {
                    "output_type": "display_data",
                    "data": {
                        "text/html": "(1 row affected)"
                    },
                    "metadata": {}
                },
                {
                    "output_type": "display_data",
                    "data": {
                        "text/html": "Total execution time: 00:00:00.0484057"
                    },
                    "metadata": {}
                },
                {
                    "output_type": "error",
                    "ename": "",
                    "evalue": "Msg 547, Level 16, State 0, Line 10\r\nThe ALTER TABLE statement conflicted with the FOREIGN KEY constraint \"FK_table2_table1\". The conflict occurred in database \"btrdynastyffl\", table \"dbo.table1\", column 'id'.",
                    "traceback": []
                },
                {
                    "output_type": "display_data",
                    "data": {
                        "text/html": "Total execution time: 00:00:00.0552781"
                    },
                    "metadata": {}
                },
                {
                    "output_type": "display_data",
                    "data": {
                        "text/html": "(1 row affected)"
                    },
                    "metadata": {}
                },
                {
                    "output_type": "display_data",
                    "data": {
                        "text/html": "Total execution time: 00:00:00.0650942"
                    },
                    "metadata": {}
                },
                {
                    "output_type": "display_data",
                    "data": {
                        "text/html": "Commands completed successfully."
                    },
                    "metadata": {}
                },
                {
                    "output_type": "display_data",
                    "data": {
                        "text/html": "Total execution time: 00:00:00.0506905"
                    },
                    "metadata": {}
                },
                {
                    "output_type": "display_data",
                    "data": {
                        "text/html": "(1 row affected)"
                    },
                    "metadata": {}
                },
                {
                    "output_type": "display_data",
                    "data": {
                        "text/html": "Total execution time: 00:00:00.0482569"
                    },
                    "metadata": {}
                },
                {
                    "output_type": "execute_result",
                    "execution_count": 52,
                    "data": {
                        "application/vnd.dataresource+json": {
                            "schema": {
                                "fields": [
                                    {
                                        "name": "Table_Name"
                                    },
                                    {
                                        "name": "FK_Name"
                                    },
                                    {
                                        "name": "is_not_trusted"
                                    },
                                    {
                                        "name": "is_disabled"
                                    }
                                ]
                            },
                            "data": [
                                {
                                    "0": "dbo.table2",
                                    "1": "FK_table2_table1",
                                    "2": "1",
                                    "3": "0"
                                }
                            ]
                        },
                        "text/html": "<table><tr><th>Table_Name</th><th>FK_Name</th><th>is_not_trusted</th><th>is_disabled</th></tr><tr><td>dbo.table2</td><td>FK_table2_table1</td><td>1</td><td>0</td></tr></table>"
                    },
                    "metadata": {}
                },
                {
                    "output_type": "execute_result",
                    "execution_count": 52,
                    "data": {
                        "application/vnd.dataresource+json": {
                            "schema": {
                                "fields": [
                                    {
                                        "name": "table1id"
                                    },
                                    {
                                        "name": "whatever"
                                    }
                                ]
                            },
                            "data": [
                                {
                                    "0": "-1",
                                    "1": "whatever"
                                }
                            ]
                        },
                        "text/html": "<table><tr><th>table1id</th><th>whatever</th></tr><tr><td>-1</td><td>whatever</td></tr></table>"
                    },
                    "metadata": {}
                },
                {
                    "output_type": "execute_result",
                    "execution_count": 52,
                    "data": {
                        "application/vnd.dataresource+json": {
                            "schema": {
                                "fields": [
                                    {
                                        "name": "Table_Name"
                                    },
                                    {
                                        "name": "FK_Name"
                                    },
                                    {
                                        "name": "is_not_trusted"
                                    },
                                    {
                                        "name": "is_disabled"
                                    }
                                ]
                            },
                            "data": [
                                {
                                    "0": "dbo.table2",
                                    "1": "FK_table2_table1",
                                    "2": "0",
                                    "3": "0"
                                }
                            ]
                        },
                        "text/html": "<table><tr><th>Table_Name</th><th>FK_Name</th><th>is_not_trusted</th><th>is_disabled</th></tr><tr><td>dbo.table2</td><td>FK_table2_table1</td><td>0</td><td>0</td></tr></table>"
                    },
                    "metadata": {}
                }
            ],
            "execution_count": 52
        },
        {
            "cell_type": "markdown",
            "source": "What's the real impact of an untrusted FK? Let's use a simple query.",
            "metadata": {}
        },
        {
            "cell_type": "code",
            "source": "ALTER TABLE [dbo].[table2] DROP CONSTRAINT [FK_table2_table1]\r\nGO\r\nALTER TABLE [dbo].[table2]  \r\nWITH NOCHECK --Creates the Foreign Key but doesn't trust it! It's not enforced.\r\nADD  CONSTRAINT [FK_table2_table1] FOREIGN KEY([table1id])\r\nREFERENCES [dbo].[table1] ([id])\r\nGO\r\nSELECT  \r\n\tTable_Name\t= s.name + '.' +o.name \r\n,\tFK_Name\t\t= fk.name \r\n,\tfk.is_not_trusted\r\n,\tfk.is_disabled\r\nFROM    sys.foreign_keys as FK\r\n        INNER JOIN sys.objects as o ON fk.parent_object_id = o.object_id\r\n        INNER JOIN sys.schemas as s ON o.schema_id = s.schema_id\r\nwhere o.name in ('table1','table2')\r\nGO\r\nSET SHOWPLAN_TEXT ON\r\nGO\r\nselect table2.id  from table1 inner join table2 on table1.id = table2.table1id\r\nGO\r\nSET SHOWPLAN_TEXT OFF\r\nGO\r\n",
            "metadata": {},
            "outputs": [
                {
                    "output_type": "display_data",
                    "data": {
                        "text/html": "Commands completed successfully."
                    },
                    "metadata": {}
                },
                {
                    "output_type": "display_data",
                    "data": {
                        "text/html": "Total execution time: 00:00:00.0499100"
                    },
                    "metadata": {}
                },
                {
                    "output_type": "display_data",
                    "data": {
                        "text/html": "Commands completed successfully."
                    },
                    "metadata": {}
                },
                {
                    "output_type": "display_data",
                    "data": {
                        "text/html": "Total execution time: 00:00:00.0499808"
                    },
                    "metadata": {}
                },
                {
                    "output_type": "display_data",
                    "data": {
                        "text/html": "(1 row affected)"
                    },
                    "metadata": {}
                },
                {
                    "output_type": "display_data",
                    "data": {
                        "text/html": "Total execution time: 00:00:00.0489064"
                    },
                    "metadata": {}
                },
                {
                    "output_type": "display_data",
                    "data": {
                        "text/html": "Commands completed successfully."
                    },
                    "metadata": {}
                },
                {
                    "output_type": "display_data",
                    "data": {
                        "text/html": "Total execution time: 00:00:00.0420358"
                    },
                    "metadata": {}
                },
                {
                    "output_type": "display_data",
                    "data": {
                        "text/html": "(1 row affected)"
                    },
                    "metadata": {}
                },
                {
                    "output_type": "display_data",
                    "data": {
                        "text/html": "(3 rows affected)"
                    },
                    "metadata": {}
                },
                {
                    "output_type": "display_data",
                    "data": {
                        "text/html": "Total execution time: 00:00:00.0560358"
                    },
                    "metadata": {}
                },
                {
                    "output_type": "display_data",
                    "data": {
                        "text/html": "Commands completed successfully."
                    },
                    "metadata": {}
                },
                {
                    "output_type": "display_data",
                    "data": {
                        "text/html": "Total execution time: 00:00:00.0408895"
                    },
                    "metadata": {}
                },
                {
                    "output_type": "execute_result",
                    "execution_count": 56,
                    "data": {
                        "application/vnd.dataresource+json": {
                            "schema": {
                                "fields": [
                                    {
                                        "name": "Table_Name"
                                    },
                                    {
                                        "name": "FK_Name"
                                    },
                                    {
                                        "name": "is_not_trusted"
                                    },
                                    {
                                        "name": "is_disabled"
                                    }
                                ]
                            },
                            "data": [
                                {
                                    "0": "dbo.table2",
                                    "1": "FK_table2_table1",
                                    "2": "1",
                                    "3": "0"
                                }
                            ]
                        },
                        "text/html": "<table><tr><th>Table_Name</th><th>FK_Name</th><th>is_not_trusted</th><th>is_disabled</th></tr><tr><td>dbo.table2</td><td>FK_table2_table1</td><td>1</td><td>0</td></tr></table>"
                    },
                    "metadata": {}
                },
                {
                    "output_type": "execute_result",
                    "execution_count": 56,
                    "data": {
                        "application/vnd.dataresource+json": {
                            "schema": {
                                "fields": [
                                    {
                                        "name": "StmtText"
                                    }
                                ]
                            },
                            "data": [
                                {
                                    "0": "select table2.id  from table1 inner join table2 on table1.id = table2.table1id"
                                }
                            ]
                        },
                        "text/html": "<table><tr><th>StmtText</th></tr><tr><td>select table2.id  from table1 inner join table2 on table1.id = table2.table1id</td></tr></table>"
                    },
                    "metadata": {}
                },
                {
                    "output_type": "execute_result",
                    "execution_count": 56,
                    "data": {
                        "application/vnd.dataresource+json": {
                            "schema": {
                                "fields": [
                                    {
                                        "name": "StmtText"
                                    }
                                ]
                            },
                            "data": [
                                {
                                    "0": "  |--Hash Match(Inner Join, HASH:([btrdynastyffl].[dbo].[table1].[id])=([btrdynastyffl].[dbo].[table2].[table1id]))"
                                },
                                {
                                    "0": "       |--Clustered Index Scan(OBJECT:([btrdynastyffl].[dbo].[table1].[PK_table1]))"
                                },
                                {
                                    "0": "       |--Clustered Index Scan(OBJECT:([btrdynastyffl].[dbo].[table2].[PK_table2]))"
                                }
                            ]
                        },
                        "text/html": "<table><tr><th>StmtText</th></tr><tr><td>  |--Hash Match(Inner Join, HASH:([btrdynastyffl].[dbo].[table1].[id])=([btrdynastyffl].[dbo].[table2].[table1id]))</td></tr><tr><td>       |--Clustered Index Scan(OBJECT:([btrdynastyffl].[dbo].[table1].[PK_table1]))</td></tr><tr><td>       |--Clustered Index Scan(OBJECT:([btrdynastyffl].[dbo].[table2].[PK_table2]))</td></tr></table>"
                    },
                    "metadata": {}
                }
            ],
            "execution_count": 56
        },
        {
            "cell_type": "markdown",
            "source": " Without a trusted FK (above), SQL can't assume the data is valid in both side of the inner join. Two clustered index scans.\r\n\r\n With a trusted FK (below), SQL can assume the data is valid in both side of the inner join. Skips the scan on table 1.",
            "metadata": {}
        },
        {
            "cell_type": "code",
            "source": "ALTER TABLE [dbo].[table2] \r\nWITH CHECK  --Note: Re-trusts the foreign key. This command reverses the previous WITH NOCHECK. Re-trusting the FK with invalid data in the child table does NOT work! Will have to clean up data.\r\nCHECK CONSTRAINT [FK_table2_table1] \r\nGO\r\n\r\nSELECT  \r\n\tTable_Name\t= s.name + '.' +o.name \r\n,\tFK_Name\t\t= fk.name \r\n,\tfk.is_not_trusted\r\n,\tfk.is_disabled\r\nFROM    sys.foreign_keys as FK\r\n        INNER JOIN sys.objects as o ON fk.parent_object_id = o.object_id\r\n        INNER JOIN sys.schemas as s ON o.schema_id = s.schema_id\r\nwhere o.name in ('table1','table2')\r\nGO\r\nSET SHOWPLAN_TEXT ON\r\nGO\r\nselect table2.id  from table1 inner join table2 on table1.id = table2.table1id\r\nGO\r\nSET SHOWPLAN_TEXT OFF\r\nGO\r\n",
            "metadata": {},
            "outputs": [
                {
                    "output_type": "display_data",
                    "data": {
                        "text/html": "Commands completed successfully."
                    },
                    "metadata": {}
                },
                {
                    "output_type": "display_data",
                    "data": {
                        "text/html": "Total execution time: 00:00:00.6154876"
                    },
                    "metadata": {}
                },
                {
                    "output_type": "display_data",
                    "data": {
                        "text/html": "(1 row affected)"
                    },
                    "metadata": {}
                },
                {
                    "output_type": "display_data",
                    "data": {
                        "text/html": "Total execution time: 00:00:00.1066356"
                    },
                    "metadata": {}
                },
                {
                    "output_type": "display_data",
                    "data": {
                        "text/html": "Commands completed successfully."
                    },
                    "metadata": {}
                },
                {
                    "output_type": "display_data",
                    "data": {
                        "text/html": "Total execution time: 00:00:00.0414325"
                    },
                    "metadata": {}
                },
                {
                    "output_type": "display_data",
                    "data": {
                        "text/html": "(1 row affected)"
                    },
                    "metadata": {}
                },
                {
                    "output_type": "display_data",
                    "data": {
                        "text/html": "(1 row affected)"
                    },
                    "metadata": {}
                },
                {
                    "output_type": "display_data",
                    "data": {
                        "text/html": "Total execution time: 00:00:00.0552370"
                    },
                    "metadata": {}
                },
                {
                    "output_type": "display_data",
                    "data": {
                        "text/html": "Commands completed successfully."
                    },
                    "metadata": {}
                },
                {
                    "output_type": "display_data",
                    "data": {
                        "text/html": "Total execution time: 00:00:00.0413188"
                    },
                    "metadata": {}
                },
                {
                    "output_type": "execute_result",
                    "execution_count": 57,
                    "data": {
                        "application/vnd.dataresource+json": {
                            "schema": {
                                "fields": [
                                    {
                                        "name": "Table_Name"
                                    },
                                    {
                                        "name": "FK_Name"
                                    },
                                    {
                                        "name": "is_not_trusted"
                                    },
                                    {
                                        "name": "is_disabled"
                                    }
                                ]
                            },
                            "data": [
                                {
                                    "0": "dbo.table2",
                                    "1": "FK_table2_table1",
                                    "2": "0",
                                    "3": "0"
                                }
                            ]
                        },
                        "text/html": "<table><tr><th>Table_Name</th><th>FK_Name</th><th>is_not_trusted</th><th>is_disabled</th></tr><tr><td>dbo.table2</td><td>FK_table2_table1</td><td>0</td><td>0</td></tr></table>"
                    },
                    "metadata": {}
                },
                {
                    "output_type": "execute_result",
                    "execution_count": 57,
                    "data": {
                        "application/vnd.dataresource+json": {
                            "schema": {
                                "fields": [
                                    {
                                        "name": "StmtText"
                                    }
                                ]
                            },
                            "data": [
                                {
                                    "0": "select table2.id  from table1 inner join table2 on table1.id = table2.table1id"
                                }
                            ]
                        },
                        "text/html": "<table><tr><th>StmtText</th></tr><tr><td>select table2.id  from table1 inner join table2 on table1.id = table2.table1id</td></tr></table>"
                    },
                    "metadata": {}
                },
                {
                    "output_type": "execute_result",
                    "execution_count": 57,
                    "data": {
                        "application/vnd.dataresource+json": {
                            "schema": {
                                "fields": [
                                    {
                                        "name": "StmtText"
                                    }
                                ]
                            },
                            "data": [
                                {
                                    "0": "  |--Clustered Index Scan(OBJECT:([btrdynastyffl].[dbo].[table2].[PK_table2]))"
                                }
                            ]
                        },
                        "text/html": "<table><tr><th>StmtText</th></tr><tr><td>  |--Clustered Index Scan(OBJECT:([btrdynastyffl].[dbo].[table2].[PK_table2]))</td></tr></table>"
                    },
                    "metadata": {}
                }
            ],
            "execution_count": 57
        },
        {
            "cell_type": "markdown",
            "source": "Cleanup ",
            "metadata": {}
        },
        {
            "cell_type": "code",
            "source": "drop table dbo.table2 \r\ndrop table dbo.table1 \r\n",
            "metadata": {},
            "outputs": [],
            "execution_count": 0
        }
    ]
}